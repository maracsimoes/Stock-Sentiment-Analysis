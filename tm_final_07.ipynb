{
 "cells": [
  {
   "cell_type": "markdown",
   "id": "75269175",
   "metadata": {},
   "source": [
    "[<font color='steelblue'>1. - __Imports and Load Data__</font>](#one-bullet) <br>\n",
    "[<font color='steelblue'>2. - __Corpus Splitting__</font>](#two-bullet) <br>\n",
    "[<font color='steelblue'>3. - __RoBERTa Embedding__</font>](#three-bullet) <br>\n",
    "[<font color='steelblue'>4. - __Final Model__</font>](#four-bullet) <br>"
   ]
  },
  {
   "cell_type": "markdown",
   "id": "e03bebb3",
   "metadata": {},
   "source": [
    "Group 7\n",
    "|Name | Student ID |\n",
    "|----|----|\n",
    "|Joana Rodrigues| 20240603|\n",
    "|Mara Simões| 20240326|\n",
    "|Matilde Street| 20240523|\n",
    "|Rafael Silva| 20240511|"
   ]
  },
  {
   "cell_type": "markdown",
   "id": "84672880",
   "metadata": {},
   "source": [
    "<hr>\n",
    "<a class=\"anchor\" id=\"one-bullet\"> \n",
    "<d style=\"color:white;\">\n",
    "\n",
    "# 1. Imports and Load Data\n",
    "</a> \n",
    "</d>   "
   ]
  },
  {
   "cell_type": "code",
   "execution_count": 1,
   "id": "5ead8c5e",
   "metadata": {},
   "outputs": [],
   "source": [
    "# Basic utilities for data handling, analysis, and visualization\n",
    "import numpy as np\n",
    "import pandas as pd\n",
    "\n",
    "# Progress bar for loops and long-running processes\n",
    "from tqdm import tqdm\n",
    "\n",
    "# Machine learning tools for model training, evaluation, and vectorization\n",
    "from sklearn.model_selection import train_test_split\n",
    "from sklearn.metrics import accuracy_score, f1_score, classification_report, confusion_matrix, precision_score, recall_score\n",
    "\n",
    "# Transformers and pre-trained models from Hugging Face\n",
    "import torch\n",
    "from transformers import (\n",
    "    RobertaTokenizer, RobertaModel\n",
    ")\n",
    "\n",
    "# Additional libraries for advanced modeling and preprocessing\n",
    "from imblearn.over_sampling import SMOTE\n",
    "\n",
    "# ignore warnings\n",
    "import warnings\n",
    "warnings.filterwarnings(\"ignore\")\n",
    "\n",
    "# pickle to load best model\n",
    "import joblib"
   ]
  },
  {
   "cell_type": "code",
   "execution_count": 2,
   "id": "e46dfe03",
   "metadata": {},
   "outputs": [],
   "source": [
    "# to read our data\n",
    "\n",
    "df_train = pd.read_csv('train.csv')\n",
    "df_test = pd.read_csv('test.csv')\n",
    "df_train = pd.DataFrame(data=df_train, columns=['text', 'label']).reset_index(drop=True)\n",
    "df_test = pd.DataFrame(data=df_test, columns=['text', 'label']).reset_index(drop=True)\n",
    "\n",
    "# copy of the df to apply in pre-trained models without data cleaning\n",
    "df_train_raw = df_train.copy()"
   ]
  },
  {
   "cell_type": "markdown",
   "id": "641edda0",
   "metadata": {},
   "source": [
    "<hr>\n",
    "<a class=\"anchor\" id=\"two-bullet\"> \n",
    "<d style=\"color:white;\">\n",
    "\n",
    "# 2. Corpus Splitting\n",
    "</a> \n",
    "</d>   "
   ]
  },
  {
   "cell_type": "code",
   "execution_count": 3,
   "id": "7d97ab9c",
   "metadata": {},
   "outputs": [],
   "source": [
    "# SPLIT FOR MODELS WITH RAW TEXT (FOR PRE-TRAINED MODELS)\n",
    "X_raw = df_train_raw['text']\n",
    "y_raw = df_train_raw['label']\n",
    "\n",
    "X_train_raw, X_val_raw, y_train_raw, y_val_raw = train_test_split(X_raw, y_raw, test_size=0.2, stratify=y_raw, random_state=42)"
   ]
  },
  {
   "cell_type": "markdown",
   "id": "404416f3",
   "metadata": {},
   "source": [
    "<hr>\n",
    "<a class=\"anchor\" id=\"three-bullet\"> \n",
    "<d style=\"color:white;\">\n",
    "\n",
    "# 3. RoBERTa Embedding\n",
    "</a> \n",
    "</d>    "
   ]
  },
  {
   "cell_type": "code",
   "execution_count": null,
   "id": "1d4d9ace",
   "metadata": {},
   "outputs": [
    {
     "name": "stderr",
     "output_type": "stream",
     "text": [
      "Some weights of RobertaModel were not initialized from the model checkpoint at roberta-base and are newly initialized: ['pooler.dense.bias', 'pooler.dense.weight']\n",
      "You should probably TRAIN this model on a down-stream task to be able to use it for predictions and inference.\n",
      "100%|██████████| 7634/7634 [21:51<00:00,  5.82it/s]  \n",
      "100%|██████████| 1909/1909 [03:51<00:00,  8.24it/s]\n",
      "100%|██████████| 2388/2388 [04:48<00:00,  8.27it/s]\n"
     ]
    }
   ],
   "source": [
    "# Load pretrained RoBERTa model and tokenizer\n",
    "tokenizer = RobertaTokenizer.from_pretrained('roberta-base')\n",
    "model = RobertaModel.from_pretrained('roberta-base')\n",
    "model.eval()  # Set to eval mode\n",
    "device = torch.device('cuda' if torch.cuda.is_available() else 'cpu')\n",
    "model.to(device)\n",
    "\n",
    "# Function to convert corpus to embeddings \n",
    "def roberta_corpus2vec(corpus, tokenizer, model, max_length=128):\n",
    "    embeddings = []\n",
    "    with torch.no_grad():\n",
    "        for doc in tqdm(corpus):\n",
    "            inputs = tokenizer(doc, return_tensors='pt', padding='max_length',\n",
    "                               truncation=True, max_length=max_length)\n",
    "            inputs = {k: v.to(device) for k, v in inputs.items()}\n",
    "            outputs = model(**inputs)\n",
    "            cls_embedding = outputs.last_hidden_state[:, 0, :].squeeze(0)  # CLS token\n",
    "            embeddings.append(cls_embedding.cpu().numpy())\n",
    "    return np.vstack(embeddings)\n",
    "\n",
    "# Encode train and validation sets with original (raw) text\n",
    "X_train_roberta = roberta_corpus2vec(X_train_raw, tokenizer, model)\n",
    "X_val_roberta = roberta_corpus2vec(X_val_raw, tokenizer, model)\n",
    "df_test_roberta = roberta_corpus2vec(df_test['text'], tokenizer, model)"
   ]
  },
  {
   "cell_type": "markdown",
   "id": "903bfcfe",
   "metadata": {},
   "source": [
    "**RoBERTa with SMOTE**  "
   ]
  },
  {
   "cell_type": "code",
   "execution_count": 5,
   "id": "d0fae3ca",
   "metadata": {},
   "outputs": [],
   "source": [
    "smote = SMOTE(random_state=13)\n",
    "X_train_roberta_resampled, y_train_resampled = smote.fit_resample(X_train_roberta, y_train_raw)"
   ]
  },
  {
   "cell_type": "markdown",
   "id": "2838f694",
   "metadata": {},
   "source": [
    "<hr>\n",
    "<a class=\"anchor\" id=\"four-bullet\"> \n",
    "<d style=\"color:white;\">\n",
    "\n",
    "# 4. Final Model\n",
    "</a> \n",
    "</d>   "
   ]
  },
  {
   "cell_type": "code",
   "execution_count": null,
   "id": "0b1c74d2",
   "metadata": {},
   "outputs": [],
   "source": [
    "def evaluate_model_predictions(y_pred_train, y_pred_val, y_train, y_val, show_confusion_matrix = True, show_classification_report = True):    \n",
    "    train_accuracy = accuracy_score(y_train, y_pred_train)\n",
    "    train_f1 = f1_score(y_train, y_pred_train, average='macro')\n",
    "    \n",
    "    val_accuracy = accuracy_score(y_val, y_pred_val)\n",
    "    val_f1 = f1_score(y_val, y_pred_val, average='macro')\n",
    "\n",
    "    val_precision = precision_score(y_val, y_pred_val, average='macro')\n",
    "    val_recall = recall_score(y_val, y_pred_val, average='macro')\n",
    "\n",
    "    print(f\"Accuracy of train: {train_accuracy:.4f}\")\n",
    "    print(f\"F1 Macro (Train): {train_f1:.4f}\")\n",
    "    print(f\"Accuracy of val: {val_accuracy:.4f}\")\n",
    "    print(f\"\\033[1mF1 Macro (Val)\\033[0m: {val_f1:.4f}\")\n",
    "    print(f\"Precision (Val): {val_precision:.4f}\")\n",
    "    print(f\"Recall (Val): {val_recall:.4f}\")\n",
    "    \n",
    "    if show_confusion_matrix==True:\n",
    "        print('\\nConfusion Matrix for Validation Data:')    \n",
    "        print(confusion_matrix(y_val, y_pred_val))\n",
    "\n",
    "    if show_classification_report==True:\n",
    "        print('\\nClassification Report for Validation Data:')\n",
    "        print(classification_report(y_val, y_pred_val))\n",
    "\n",
    "    return val_accuracy, val_f1, val_precision, val_recall"
   ]
  },
  {
   "cell_type": "markdown",
   "id": "f15f3216",
   "metadata": {},
   "source": [
    "### **Ensemble Model with Voting Classifier Combining Logistic Regression, MLP, and XGBoost**"
   ]
  },
  {
   "cell_type": "markdown",
   "id": "fe01f1a1",
   "metadata": {},
   "source": [
    "#### With Roberta"
   ]
  },
  {
   "cell_type": "code",
   "execution_count": null,
   "id": "9d42b550",
   "metadata": {},
   "outputs": [],
   "source": [
    "# Load the best model from a pickle (saved from the tests notebook)\n",
    "best_ensemble = joblib.load('best_ensemble_model.pkl')"
   ]
  },
  {
   "cell_type": "code",
   "execution_count": 8,
   "id": "a45cc643",
   "metadata": {},
   "outputs": [
    {
     "name": "stdout",
     "output_type": "stream",
     "text": [
      "Accuracy of train: 0.9892\n",
      "F1 Macro (Train): 0.9892\n",
      "Accuracy of val: 0.8491\n",
      "\u001b[1mF1 Macro (Val)\u001b[0m: 0.7906\n",
      "Precision (Val): 0.7935\n",
      "Recall (Val): 0.7879\n",
      "\n",
      "Confusion Matrix for Validation Data:\n",
      "[[ 199   39   50]\n",
      " [  28  292   65]\n",
      " [  50   56 1130]]\n",
      "\n",
      "Classification Report for Validation Data:\n",
      "              precision    recall  f1-score   support\n",
      "\n",
      "           0       0.72      0.69      0.70       288\n",
      "           1       0.75      0.76      0.76       385\n",
      "           2       0.91      0.91      0.91      1236\n",
      "\n",
      "    accuracy                           0.85      1909\n",
      "   macro avg       0.79      0.79      0.79      1909\n",
      "weighted avg       0.85      0.85      0.85      1909\n",
      "\n"
     ]
    },
    {
     "data": {
      "text/plain": [
       "(0.8491356731272918,\n",
       " 0.7906081592040758,\n",
       " 0.7935213460864045,\n",
       " 0.7878844209548093)"
      ]
     },
     "execution_count": 8,
     "metadata": {},
     "output_type": "execute_result"
    }
   ],
   "source": [
    "y_pred_train = best_ensemble.predict(X_train_roberta_resampled)\n",
    "y_pred_val = best_ensemble.predict(X_val_roberta)\n",
    "evaluate_model_predictions(y_pred_train=y_pred_train, y_pred_val=y_pred_val, y_train=y_train_resampled, y_val=y_val_raw)"
   ]
  },
  {
   "cell_type": "markdown",
   "id": "e51a5336",
   "metadata": {},
   "source": [
    "### Export Test Predictions"
   ]
  },
  {
   "cell_type": "code",
   "execution_count": null,
   "id": "35fe0e6f",
   "metadata": {},
   "outputs": [],
   "source": [
    "# predict on the test set using the best ensemble model\n",
    "y_pred_test = best_ensemble.predict(df_test_roberta)\n",
    "ids = df_test.index\n",
    "\n",
    "final = pd.DataFrame({\n",
    "    'id': ids,\n",
    "    'label': y_pred_test\n",
    "})\n",
    "\n",
    "# Save the final predictions to a CSV file\n",
    "final.to_csv('pred_07.csv', index=False, sep=';')"
   ]
  }
 ],
 "metadata": {
  "kernelspec": {
   "display_name": "base",
   "language": "python",
   "name": "python3"
  },
  "language_info": {
   "codemirror_mode": {
    "name": "ipython",
    "version": 3
   },
   "file_extension": ".py",
   "mimetype": "text/x-python",
   "name": "python",
   "nbconvert_exporter": "python",
   "pygments_lexer": "ipython3",
   "version": "3.12.3"
  }
 },
 "nbformat": 4,
 "nbformat_minor": 5
}
